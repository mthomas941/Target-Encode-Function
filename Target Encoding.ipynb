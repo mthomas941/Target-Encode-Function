{
 "cells": [
  {
   "cell_type": "code",
   "execution_count": null,
   "metadata": {},
   "outputs": [],
   "source": [
    "import numpy as np\n",
    "import pandas as pd"
   ]
  },
  {
   "cell_type": "code",
   "execution_count": null,
   "metadata": {},
   "outputs": [],
   "source": [
    "# Map target encoded values to dataframe and create a dictionary of object:encoded key, value pair\n",
    "def target_encode(df, target_feature, m = 300): \n",
    "    d = defaultdict()\n",
    "    target_mean = df[target_feature].mean()\n",
    "    \n",
    "    # Map values and create dictionary   \n",
    "    for cat_feature in df.select_dtypes(include='category'):\n",
    "        group_target_mean = df.groupby([cat_feature])[target_feature].agg('mean')\n",
    "        group_target_count = df.groupby([cat_feature])[target_feature].agg('count')\n",
    "        smooth = (group_target_count * group_target_mean + m * target_mean) / (group_target_count + m)\n",
    "        k = pd.Series(df[cat_feature])\n",
    "        v = df[cat_feature].map(smooth)\n",
    "        d[cat_feature] = dict(zip(k, v))\n",
    "        df[cat_feature] = X[cat_feature].map(smooth)\n",
    "        \n",
    "    return df, d"
   ]
  },
  {
   "cell_type": "code",
   "execution_count": null,
   "metadata": {},
   "outputs": [],
   "source": [
    "# Map values from encoded dict\n",
    "for i in X.select_dtypes(include='category'):    \n",
    "    if i in encoded_dict:\n",
    "        X[i] = X[i].map(encoded_dict[i])"
   ]
  },
  {
   "cell_type": "code",
   "execution_count": null,
   "metadata": {},
   "outputs": [],
   "source": []
  }
 ],
 "metadata": {
  "kernelspec": {
   "display_name": "Python 3",
   "language": "python",
   "name": "python3"
  },
  "language_info": {
   "codemirror_mode": {
    "name": "ipython",
    "version": 3
   },
   "file_extension": ".py",
   "mimetype": "text/x-python",
   "name": "python",
   "nbconvert_exporter": "python",
   "pygments_lexer": "ipython3",
   "version": "3.6.8"
  }
 },
 "nbformat": 4,
 "nbformat_minor": 2
}
